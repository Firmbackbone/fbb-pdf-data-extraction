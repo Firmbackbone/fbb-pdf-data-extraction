{
 "cells": [
  {
   "cell_type": "code",
   "execution_count": null,
   "metadata": {},
   "outputs": [],
   "source": [
    "!pip3 install openai"
   ]
  },
  {
   "cell_type": "code",
   "execution_count": null,
   "metadata": {},
   "outputs": [],
   "source": [
    "import pandas as pd\n",
    "from openai import OpenAI"
   ]
  },
  {
   "cell_type": "markdown",
   "metadata": {},
   "source": [
    "# 1. Text Extraction"
   ]
  },
  {
   "cell_type": "markdown",
   "metadata": {},
   "source": [
    "#### Using PyMuPDF"
   ]
  },
  {
   "cell_type": "code",
   "execution_count": null,
   "metadata": {},
   "outputs": [],
   "source": [
    "import fitz  # Import the PyMuPDF library\n",
    "\n",
    "def extract_text_pymupdf(pdf_path):\n",
    "    doc = fitz.open(pdf_path)  # Open the PDF file\n",
    "    text = \"\"  # Initialize an empty string to store text\n",
    "\n",
    "    for page in doc:  # Iterate through each page\n",
    "        text += page.get_text()  # Extract text from the page and append it\n",
    "\n",
    "    doc.close()  # Close the document\n",
    "    return text\n",
    "\n",
    "# Example usage\n",
    "pdf_path = '/Users/juliamarkusiewicz/Downloads/PDF_Mining_Julia/Jaarrekening-Momo-Medical-Holding-B.V.-2022.pdf'\n",
    "text = extract_text_pymupdf(pdf_path)\n",
    "text_data = extract_text_pymupdf(pdf_path)\n",
    "print(text)"
   ]
  },
  {
   "cell_type": "markdown",
   "metadata": {},
   "source": [
    "#### Using  PyPDF2"
   ]
  },
  {
   "cell_type": "code",
   "execution_count": null,
   "metadata": {},
   "outputs": [],
   "source": [
    "import PyPDF2\n",
    "\n",
    "def extract_text_pypdf2(pdf_path):\n",
    "    text = \"\"  # Initialize an empty string to store text\n",
    "    with open(pdf_path, 'rb') as file:  # Open the PDF file in binary mode\n",
    "        reader = PyPDF2.PdfReader(file)  # Create a PDF reader object\n",
    "\n",
    "        for page in reader.pages:  # Iterate through each page\n",
    "            text += page.extract_text() + \"\\n\"  # Extract text and append it\n",
    "\n",
    "    return text\n",
    "\n",
    "# Example usage\n",
    "pdf_path = '/Users/juliamarkusiewicz/Downloads/PDF_Mining_Julia/Jaarrekening-Momo-Medical-Holding-B.V.-2022.pdf'\n",
    "text = extract_text_pypdf2(pdf_path)\n",
    "print(text)"
   ]
  },
  {
   "cell_type": "markdown",
   "metadata": {},
   "source": [
    "### Table Extraction"
   ]
  },
  {
   "cell_type": "code",
   "execution_count": null,
   "metadata": {},
   "outputs": [],
   "source": [
    "from tabula import read_pdf\n",
    "\n",
    "def extract_tables_tabula(pdf_path):\n",
    "    # This function returns a list of DataFrames, one for each page\n",
    "    dfs = read_pdf(pdf_path, pages='all', multiple_tables=True)\n",
    "\n",
    "    for i, df in enumerate(dfs):\n",
    "        print(f\"Table {i+1}:\")\n",
    "        print(df)  # Print each table\n",
    "        # You can also save the DataFrame to a CSV or Excel\n",
    "        # df.to_csv(f'table_{i+1}.csv') # Uncomment to save to CSV\n",
    "\n",
    "# Example usage\n",
    "pdf_path = '/Users/juliamarkusiewicz/Downloads/PDF_Mining_Julia/Jaarrekening-Momo-Medical-Holding-B.V.-2022.pdf'\n",
    "extract_tables_tabula(pdf_path)"
   ]
  },
  {
   "cell_type": "markdown",
   "metadata": {},
   "source": [
    "## Extracting and Categorising data "
   ]
  },
  {
   "cell_type": "code",
   "execution_count": null,
   "metadata": {},
   "outputs": [],
   "source": [
    "MAX_DESCRIPTION_LENGTH = 120\n",
    "\n",
    "# is_number returns a number stripped from commas, dots and parentheses and a boolean indicating if the input is a number\n",
    "# or the raw data if `s` is not a number\n",
    "def is_number(s: str) -> [int, bool]:\n",
    "    if s.startswith(\"(\") and s.endswith(\")\"):\n",
    "        s = s[1:-1]\n",
    "    elif s == \"-\":\n",
    "        return 0, True\n",
    "    # NOTE: more cases here\n",
    "    num = s.replace(\",\", \"\").replace(\".\", \"\")\n",
    "    return num, num.isdigit()\n",
    "\n",
    "def is_page_number(s: str) -> bool:\n",
    "    return s.strip().startswith(\"Page \")\n",
    "\n",
    "def parse_adjusted_financial_text(text):\n",
    "    # Split the text into lines\n",
    "    lines = text.strip().split(\"\\n\")\n",
    "    \n",
    "    # Initialize an empty list to store our parsed data\n",
    "    parsed_data = []\n",
    "    \n",
    "    # this variable tracks if we found any numeric data on the current page\n",
    "    no_numeric_data_on_page = True\n",
    "    misc_text_data = []\n",
    "    \n",
    "    # Initialize empty strings for current description and values\n",
    "    current_description = \"\"\n",
    "    value_2022 = \"\"\n",
    "    \n",
    "    # Iterate over each line in the text\n",
    "    for line in lines:\n",
    "        # Check if line is a description or a value\n",
    "        maybe_num, is_num = is_number(line)\n",
    "        if is_num:\n",
    "            # If it's a digit, it's a value\n",
    "            if value_2022 == \"\":\n",
    "                # If the first value is not yet set, set it as 2022 value\n",
    "                value_2022 = maybe_num\n",
    "            else:\n",
    "                print([current_description.strip().lower(), int(value_2022), int(maybe_num)])\n",
    "                parsed_data.append([current_description.strip().lower(), int(value_2022), int(maybe_num)])\n",
    "                # Reset the values for the next set of data\n",
    "                current_description = \"\"\n",
    "                value_2022 = \"\"\n",
    "                no_numeric_data_on_page = False\n",
    "        else:\n",
    "            # we might find long streches of text unrelated to data labeling\n",
    "            # in that case we have the following solutions:\n",
    "            #  * cap descripiton length (x chars)\n",
    "            #  * \n",
    "            # If it's not a digit, it's a description\n",
    "            # Accumulate descriptions until we reach a digit\n",
    "            if current_description:\n",
    "                if is_page_number(line):\n",
    "                    if no_numeric_data_on_page:\n",
    "                        misc_text_data.append(current_description)\n",
    "                        current_description = \"\"\n",
    "                    # we want to reset the tracker at every new page\n",
    "                    no_numeric_data_on_page = True\n",
    "                else: current_description += \" \" + line.strip()\n",
    "                # if current_description.len() > 100 cut the first characters until it's len is 100\n",
    "                #if len(current_description) > MAX_DESCRIPTION_LENGTH:\n",
    "                #    to_cut = len(current_description) - MAX_DESCRIPTION_LENGTH\n",
    "                #    current_description = current_description[to_cut:]\n",
    "            else:\n",
    "                current_description = line\n",
    "                \n",
    "    # Convert the parsed data into a DataFrame\n",
    "    return pd.DataFrame(parsed_data, columns=['Description', '2022 EUR', '2021 EUR']), misc_text_data"
   ]
  },
  {
   "cell_type": "code",
   "execution_count": null,
   "metadata": {},
   "outputs": [],
   "source": [
    "# Parse the adjusted text data\n",
    "df_parsed, misc_text_data = parse_adjusted_financial_text(text_data)\n",
    "\n",
    "# Display the parsed DataFrame\n",
    "display(df_parsed)"
   ]
  },
  {
   "cell_type": "code",
   "execution_count": null,
   "metadata": {},
   "outputs": [],
   "source": [
    "# extracting company information\n",
    " \n",
    "client = OpenAI(base_url = 'http://localhost:11434/v1',api_key='ollama')\n",
    "\n",
    "def prepare_prompt(text: str) -> list:\n",
    "    return [\n",
    "        # prompt not final, to be adjusted\n",
    "        {\"role\": \"system\", \"content\": \"Please extract the name of the company, the two years that the financial statement is about (i.e 2021, 2022), in the order they appear, the currency, and the type of financial statemen. Output only those values, separated by commas.\"},\n",
    "        {\"role\": \"user\", \"content\": text},\n",
    "        {\"role\": \"assistant\", \"content\": \"category name:\"}\n",
    "    ]\n",
    "\n",
    "def output_company_information(text: str) -> str:\n",
    "    messages = prepare_prompt(text)\n",
    "    response = client.chat.completions.create(\n",
    "        # TODO: try on smaller models\n",
    "        model=\"gemma:7b\",\n",
    "        messages = messages\n",
    "    )\n",
    "    company_information = response.choices[0].message.content\n",
    "    # TODO: other text manipulation like converting to lowercase etc.\n",
    "    return company_information\n",
    "\n",
    "# from the first 500 characters of df_parsed, extract company name, year, currency, and the type of financial statement\n",
    "company_information = output_company_information(text[:500])\n",
    "print(company_information)\n"
   ]
  },
  {
   "cell_type": "code",
   "execution_count": null,
   "metadata": {},
   "outputs": [],
   "source": [
    "# now replace all outputs longer than XXX characters with a category name extracted by gemma\n",
    "\n",
    "def prepare_messages(text: str) -> list:\n",
    "    return [\n",
    "        # prompt not final, to be adjusted\n",
    "        {\"role\": \"system\", \"content\": \"This is a fragment of description from a financial statement. Please extract a category name for financial analysis from the following paragraph, output only the category name and no other information:\"},\n",
    "        {\"role\": \"user\", \"content\": text},\n",
    "        {\"role\": \"assistant\", \"content\": \"category name:\"}\n",
    "    ]\n",
    "\n",
    "def output_category_name(text: str) -> str:\n",
    "    messages = prepare_messages(text)\n",
    "    response = client.chat.completions.create(\n",
    "        # TODO: try on smaller models\n",
    "        model=\"gemma:7b\",\n",
    "        messages = messages\n",
    "    )\n",
    "    category_name = response.choices[0].message.content\n",
    "    # TODO: other text manipulation like converting to lowercase etc.\n",
    "    return category_name\n"
   ]
  },
  {
   "cell_type": "code",
   "execution_count": null,
   "metadata": {},
   "outputs": [],
   "source": [
    "#a = output_category_name(\"current receivables from other legal entities and companies with a participating interest in the legal entity or from participating interests of the legal entity\")\n",
    "#print(a)\n",
    "i = 0\n",
    "for row in df_parsed['Description']:\n",
    "    if len(row) > MAX_DESCRIPTION_LENGTH:\n",
    "        category_name = output_category_name(row)\n",
    "        # TODO: overwrite the 'Description' column with the new category name\n",
    "        print(row, \"->\", category_name)\n",
    "        i += 1\n",
    "    if i > 5:\n",
    "        break\n"
   ]
  },
  {
   "cell_type": "markdown",
   "metadata": {},
   "source": [
    "# 2. Data Cleaning , Classifying "
   ]
  },
  {
   "cell_type": "markdown",
   "metadata": {},
   "source": [
    "### Classifying Data \n"
   ]
  },
  {
   "cell_type": "code",
   "execution_count": null,
   "metadata": {},
   "outputs": [],
   "source": [
    "def classify_table(df):\n",
    "    # Example of simple keyword-based classification\n",
    "    if 'Total of inventories' in df.columns:\n",
    "        return 'Inventory'\n",
    "    elif 'Total of non-current assets' in df.columns:\n",
    "        return 'Non-Current Assets'\n",
    "\n",
    "\n",
    "    else:\n",
    "        return 'Unknown'"
   ]
  },
  {
   "cell_type": "markdown",
   "metadata": {},
   "source": [
    "# 3. Data Validation\n"
   ]
  },
  {
   "cell_type": "code",
   "execution_count": null,
   "metadata": {},
   "outputs": [],
   "source": [
    "#Consistency check ...\n",
    "\n",
    "# Balance sheet validation rule: Assets = Liabilities + Equity\n",
    "if total_assets == total_liabilities + equity:\n",
    "    print(\"The balance sheet balances.\")\n",
    "else:\n",
    "    print(\"There is a discrepancy in the balance sheet.\")\n",
    "    "
   ]
  }
 ],
 "metadata": {
  "kernelspec": {
   "display_name": "Python 3",
   "language": "python",
   "name": "python3"
  },
  "language_info": {
   "codemirror_mode": {
    "name": "ipython",
    "version": 3
   },
   "file_extension": ".py",
   "mimetype": "text/x-python",
   "name": "python",
   "nbconvert_exporter": "python",
   "pygments_lexer": "ipython3",
   "version": "3.9.6"
  }
 },
 "nbformat": 4,
 "nbformat_minor": 2
}
